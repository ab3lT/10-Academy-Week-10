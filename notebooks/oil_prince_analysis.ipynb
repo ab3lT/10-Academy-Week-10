{
 "cells": [
  {
   "cell_type": "code",
   "execution_count": 1,
   "metadata": {},
   "outputs": [],
   "source": [
    "# Import necessary libraries\n",
    "\n",
    "import pandas as pd\n",
    "import numpy as np\n",
    "import matplotlib.pyplot as plt\n",
    "import seaborn as sns\n",
    "import os, sys\n",
    "# Add the 'scripts' directory to the Python path for module imports\n",
    "sys.path.append(os.path.abspath(os.path.join('..', 'scripts')))\n",
    "\n",
    "# Set max rows and columns to display\n",
    "pd.set_option('display.max_columns', 200)\n",
    "pd.set_option('display.max_rows', 200)\n",
    "\n"
   ]
  },
  {
   "cell_type": "code",
   "execution_count": 2,
   "metadata": {},
   "outputs": [
    {
     "data": {
      "text/plain": [
       "<Figure size 1200x500 with 0 Axes>"
      ]
     },
     "execution_count": 2,
     "metadata": {},
     "output_type": "execute_result"
    },
    {
     "data": {
      "text/plain": [
       "<Figure size 1200x500 with 0 Axes>"
      ]
     },
     "metadata": {},
     "output_type": "display_data"
    }
   ],
   "source": [
    "# Configure logging\n",
    "from logging_setup import SetupLogger\n",
    "# Assuming this class is defined in scripts/\n",
    "from data_preprocessor import DataPreprocessor  \n",
    "\n",
    "logger = SetupLogger(log_file='../logs/notebooks.log').get_logger()\n",
    "\n",
    "# Set figure size\n",
    "plt.figure(figsize=(12, 5))"
   ]
  },
  {
   "cell_type": "code",
   "execution_count": 4,
   "metadata": {},
   "outputs": [
    {
     "name": "stderr",
     "output_type": "stream",
     "text": [
      "Downloading...\n",
      "From: https://drive.google.com/uc?export=download&id=1Vj0JN3-cICvpks3nsEUtmtsY8eSWYW8M\n",
      "To: /home/abel/CODE/KiFiya/10-Academy-Week-10/data/data.csv\n",
      "100%|██████████| 156k/156k [00:00<00:00, 384kB/s]\n",
      "/home/abel/CODE/KiFiya/10-Academy-Week-10/scripts/data_preprocessor.py:51: UserWarning: Could not infer format, so each element will be parsed individually, falling back to `dateutil`. To ensure parsing is consistent and as-expected, please specify a format.\n",
      "  self.data['Date'] = pd.to_datetime(self.data['Date'].str.strip(),  errors='coerce')\n"
     ]
    }
   ],
   "source": [
    "# Set google drive url for loading the dataset\n",
    "data = 'https://drive.google.com/file/d/1Vj0JN3-cICvpks3nsEUtmtsY8eSWYW8M/view?usp=sharing'\n",
    "\n",
    "# Setup the data preprocessor class\n",
    "processor = DataPreprocessor(data, logger=logger)\n",
    "# Load the data\n",
    "price_data = processor.load_data()"
   ]
  },
  {
   "cell_type": "code",
   "execution_count": 5,
   "metadata": {},
   "outputs": [
    {
     "data": {
      "text/html": [
       "<div>\n",
       "<style scoped>\n",
       "    .dataframe tbody tr th:only-of-type {\n",
       "        vertical-align: middle;\n",
       "    }\n",
       "\n",
       "    .dataframe tbody tr th {\n",
       "        vertical-align: top;\n",
       "    }\n",
       "\n",
       "    .dataframe thead th {\n",
       "        text-align: right;\n",
       "    }\n",
       "</style>\n",
       "<table border=\"1\" class=\"dataframe\">\n",
       "  <thead>\n",
       "    <tr style=\"text-align: right;\">\n",
       "      <th></th>\n",
       "      <th>Date</th>\n",
       "      <th>Price</th>\n",
       "    </tr>\n",
       "  </thead>\n",
       "  <tbody>\n",
       "    <tr>\n",
       "      <th>0</th>\n",
       "      <td>1987-05-20</td>\n",
       "      <td>18.63</td>\n",
       "    </tr>\n",
       "    <tr>\n",
       "      <th>1</th>\n",
       "      <td>1987-05-21</td>\n",
       "      <td>18.45</td>\n",
       "    </tr>\n",
       "    <tr>\n",
       "      <th>2</th>\n",
       "      <td>1987-05-22</td>\n",
       "      <td>18.55</td>\n",
       "    </tr>\n",
       "    <tr>\n",
       "      <th>3</th>\n",
       "      <td>1987-05-25</td>\n",
       "      <td>18.60</td>\n",
       "    </tr>\n",
       "    <tr>\n",
       "      <th>4</th>\n",
       "      <td>1987-05-26</td>\n",
       "      <td>18.63</td>\n",
       "    </tr>\n",
       "    <tr>\n",
       "      <th>5</th>\n",
       "      <td>1987-05-27</td>\n",
       "      <td>18.60</td>\n",
       "    </tr>\n",
       "    <tr>\n",
       "      <th>6</th>\n",
       "      <td>1987-05-28</td>\n",
       "      <td>18.60</td>\n",
       "    </tr>\n",
       "    <tr>\n",
       "      <th>7</th>\n",
       "      <td>1987-05-29</td>\n",
       "      <td>18.58</td>\n",
       "    </tr>\n",
       "    <tr>\n",
       "      <th>8</th>\n",
       "      <td>1987-06-01</td>\n",
       "      <td>18.65</td>\n",
       "    </tr>\n",
       "    <tr>\n",
       "      <th>9</th>\n",
       "      <td>1987-06-02</td>\n",
       "      <td>18.68</td>\n",
       "    </tr>\n",
       "  </tbody>\n",
       "</table>\n",
       "</div>"
      ],
      "text/plain": [
       "        Date  Price\n",
       "0 1987-05-20  18.63\n",
       "1 1987-05-21  18.45\n",
       "2 1987-05-22  18.55\n",
       "3 1987-05-25  18.60\n",
       "4 1987-05-26  18.63\n",
       "5 1987-05-27  18.60\n",
       "6 1987-05-28  18.60\n",
       "7 1987-05-29  18.58\n",
       "8 1987-06-01  18.65\n",
       "9 1987-06-02  18.68"
      ]
     },
     "execution_count": 5,
     "metadata": {},
     "output_type": "execute_result"
    }
   ],
   "source": [
    "# Explore the first 10 rows\n",
    "price_data.head(10)"
   ]
  },
  {
   "cell_type": "code",
   "execution_count": 7,
   "metadata": {},
   "outputs": [],
   "source": [
    "# Define the events dictionary\n",
    "events_dict = {\n",
    "    \"Gulf War (1990-1991)\": {\"start\": \"1990-08-02\", \"end\": \"1991-02-28\"},\n",
    "    \"September 11 Attacks (2001)\": {\"start\": \"2001-09-11\", \"end\": \"2001-09-11\"},\n",
    "    \"2003 Invasion of Iraq\": {\"start\": \"2003-03-20\", \"end\": \"2011-12-18\"},\n",
    "    \"2008 Financial Crisis\": {\"start\": \"2008-09-15\", \"end\": \"2009-07-01\"},\n",
    "    \"Arab Spring (2010-2012)\": {\"start\": \"2010-12-18\", \"end\": \"2012-12-18\"},\n",
    "    \"Libyan Civil War (2011)\": {\"start\": \"2011-02-15\", \"end\": \"2011-10-23\"},\n",
    "    \"U.S. Shale Oil Boom (2010s)\": {\"start\": \"2010-01-01\", \"end\": \"2019-12-31\"},\n",
    "    \"OPEC Production Cuts (2016-2017)\": {\"start\": \"2016-11-30\", \"end\": \"2017-06-30\"},\n",
    "    \"Iran Nuclear Deal and Sanctions (2015-2018)\": {\"start\": \"2015-07-14\", \"end\": \"2018-05-07\"},\n",
    "    \"COVID-19 Pandemic (2020)\": {\"start\": \"2020-03-11\", \"end\": \"2022-09-30\"},\n",
    "    \"OPEC+ Response to COVID-19 (2020)\": {\"start\": \"2020-04-09\", \"end\": \"2020-12-31\"},\n",
    "    \"Russia-Ukraine Conflict (2022)\": {\"start\": \"2022-02-24\", \"end\": \"2022-09-30\"},\n",
    "    \"Global Economic Recovery (2021-2022)\": {\"start\": \"2021-01-01\", \"end\": \"2022-09-30\"}\n",
    "}\n",
    "\n",
    "# Convert the events dictionary to a DataFrame\n",
    "events_data = pd.DataFrame.from_dict(events_dict, orient='index')\n",
    "events_data.reset_index(inplace=True)\n",
    "events_data.columns = ['Event', 'Start', 'End']\n",
    "\n",
    "# Convert Start and End to datetime\n",
    "events_data['Start'] = pd.to_datetime(events_data['Start'])\n",
    "events_data['End'] = pd.to_datetime(events_data['End'])"
   ]
  }
 ],
 "metadata": {
  "kernelspec": {
   "display_name": ".venv",
   "language": "python",
   "name": "python3"
  },
  "language_info": {
   "codemirror_mode": {
    "name": "ipython",
    "version": 3
   },
   "file_extension": ".py",
   "mimetype": "text/x-python",
   "name": "python",
   "nbconvert_exporter": "python",
   "pygments_lexer": "ipython3",
   "version": "3.12.3"
  }
 },
 "nbformat": 4,
 "nbformat_minor": 2
}
