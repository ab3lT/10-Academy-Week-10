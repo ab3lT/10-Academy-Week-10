{
 "cells": [
  {
   "cell_type": "code",
   "execution_count": 1,
   "metadata": {},
   "outputs": [],
   "source": [
    "# Import necessary libraries\n",
    "\n",
    "import pandas as pd\n",
    "import numpy as np\n",
    "import matplotlib.pyplot as plt\n",
    "import seaborn as sns\n",
    "import os, sys\n",
    "# Add the 'scripts' directory to the Python path for module imports\n",
    "sys.path.append(os.path.abspath(os.path.join('..', 'scripts')))\n",
    "\n",
    "# Set max rows and columns to display\n",
    "pd.set_option('display.max_columns', 200)\n",
    "pd.set_option('display.max_rows', 200)\n",
    "\n"
   ]
  },
  {
   "cell_type": "code",
   "execution_count": 2,
   "metadata": {},
   "outputs": [
    {
     "data": {
      "text/plain": [
       "<Figure size 1200x500 with 0 Axes>"
      ]
     },
     "execution_count": 2,
     "metadata": {},
     "output_type": "execute_result"
    },
    {
     "data": {
      "text/plain": [
       "<Figure size 1200x500 with 0 Axes>"
      ]
     },
     "metadata": {},
     "output_type": "display_data"
    }
   ],
   "source": [
    "# Configure logging\n",
    "from logging_setup import SetupLogger\n",
    "# Assuming this class is defined in scripts/\n",
    "from data_preprocessor import DataPreprocessor  \n",
    "\n",
    "logger = SetupLogger(log_file='../logs/notebooks.log').get_logger()\n",
    "\n",
    "# Set figure size\n",
    "plt.figure(figsize=(12, 5))"
   ]
  },
  {
   "cell_type": "code",
   "execution_count": 4,
   "metadata": {},
   "outputs": [
    {
     "name": "stderr",
     "output_type": "stream",
     "text": [
      "Downloading...\n",
      "From: https://drive.google.com/uc?export=download&id=1Vj0JN3-cICvpks3nsEUtmtsY8eSWYW8M\n",
      "To: /home/abel/CODE/KiFiya/10-Academy-Week-10/data/data.csv\n",
      "100%|██████████| 156k/156k [00:00<00:00, 384kB/s]\n",
      "/home/abel/CODE/KiFiya/10-Academy-Week-10/scripts/data_preprocessor.py:51: UserWarning: Could not infer format, so each element will be parsed individually, falling back to `dateutil`. To ensure parsing is consistent and as-expected, please specify a format.\n",
      "  self.data['Date'] = pd.to_datetime(self.data['Date'].str.strip(),  errors='coerce')\n"
     ]
    }
   ],
   "source": [
    "# Set google drive url for loading the dataset\n",
    "data = 'https://drive.google.com/file/d/1Vj0JN3-cICvpks3nsEUtmtsY8eSWYW8M/view?usp=sharing'\n",
    "\n",
    "# Setup the data preprocessor class\n",
    "processor = DataPreprocessor(data, logger=logger)\n",
    "# Load the data\n",
    "price_data = processor.load_data()"
   ]
  }
 ],
 "metadata": {
  "kernelspec": {
   "display_name": ".venv",
   "language": "python",
   "name": "python3"
  },
  "language_info": {
   "codemirror_mode": {
    "name": "ipython",
    "version": 3
   },
   "file_extension": ".py",
   "mimetype": "text/x-python",
   "name": "python",
   "nbconvert_exporter": "python",
   "pygments_lexer": "ipython3",
   "version": "3.12.3"
  }
 },
 "nbformat": 4,
 "nbformat_minor": 2
}
