{
 "cells": [
  {
   "cell_type": "code",
   "execution_count": null,
   "metadata": {},
   "outputs": [],
   "source": [
    "# Import necessary libraries\n",
    "\n",
    "import pandas as pd\n",
    "import numpy as np\n",
    "import matplotlib.pyplot as plt\n",
    "import seaborn as sns\n",
    "import os, sys\n",
    "# Add the 'scripts' directory to the Python path for module imports\n",
    "sys.path.append(os.path.abspath(os.path.join('..', 'scripts')))\n",
    "\n",
    "# Set max rows and columns to display\n",
    "pd.set_option('display.max_columns', 200)\n",
    "pd.set_option('display.max_rows', 200)\n",
    "\n",
    "# Configure logging\n",
    "from logger import SetupLogger\n",
    "# Assuming this class is defined in scripts/\n",
    "from data_preprocessor import DataPreprocessor  \n",
    "\n",
    "logger = SetupLogger(log_file='../logs/notebooks.log').get_logger()\n",
    "\n",
    "# Set figure size\n",
    "plt.figure(figsize=(12, 5))"
   ]
  },
  {
   "cell_type": "code",
   "execution_count": null,
   "metadata": {},
   "outputs": [],
   "source": [
    "# Set google drive url for loading the dataset\n",
    "data = '../data/BrentOilPrices.csv'\n",
    "\n",
    "# Setup the data preprocessor class\n",
    "processor = DataPreprocessor(data, logger=logger)\n",
    "# Load the data\n",
    "price_data = processor.load_data()"
   ]
  }
 ],
 "metadata": {
  "kernelspec": {
   "display_name": ".venv",
   "language": "python",
   "name": "python3"
  },
  "language_info": {
   "name": "python",
   "version": "3.12.3"
  }
 },
 "nbformat": 4,
 "nbformat_minor": 2
}
